{
 "cells": [
  {
   "cell_type": "code",
   "execution_count": 1,
   "metadata": {},
   "outputs": [],
   "source": [
    "import os\n",
    "import sys\n",
    "project_root = \"/Users/burgerhuang/Documents/ImageUtilisTools\"\n",
    "if project_root not in sys.path:\n",
    "    sys.path.append(project_root)\n",
    "from ImageUtilisTools.GeneAnalysis.CCA_analysis import CCA_permutation\n",
    "import pandas as pd\n",
    "import numpy as np\n",
    "\n",
    "gene_data = \"../ImageUtilisTools/GeneAnalysis/ahba_expression_Glasser2016LR_noHeader.csv\"\n",
    "gene_label = \"../ImageUtilisTools/GeneAnalysis/genename_Glasser2016LR.csv\"\n",
    "\n",
    "gene_data = pd.read_csv(gene_data, header=None)\n",
    "gene_label = np.loadtxt(gene_label, dtype=str, delimiter=\",\")\n",
    "\n",
    "lh_parc, rh_parc = ['../ImageUtilisTools/GeneAnalysis/Glasser2016.L.32k_fs_LR.label.gii',\n",
    "                    '../ImageUtilisTools/GeneAnalysis/Glasser2016.R.32k_fs_LR.label.gii']\n",
    "\n",
    "# parc distance matrix files\n",
    "left_dist_mat_file = '../ImageUtilisTools/GeneAnalysis/LeftParcelGeodesicDistmat_Glasser2016_180regions.txt'\n",
    "right_dist_mat_file = '../ImageUtilisTools/GeneAnalysis/RightParcelGeodesicDistmat_Glasser2016_180regions.txt'"
   ]
  },
  {
   "cell_type": "code",
   "execution_count": 2,
   "metadata": {},
   "outputs": [],
   "source": [
    "# 示例数据\n",
    "X = gene_data.iloc[:, 9996:10005].to_numpy()\n",
    "gene_label = gene_label[9996:10005]\n",
    "gene_label\n",
    "y = gene_data.iloc[:, 9995].to_numpy()"
   ]
  },
  {
   "cell_type": "code",
   "execution_count": 3,
   "metadata": {},
   "outputs": [
    {
     "name": "stdout",
     "output_type": "stream",
     "text": [
      "Canonical Correlation Coefficient: 0.8488075568971382\n"
     ]
    },
    {
     "name": "stderr",
     "output_type": "stream",
     "text": [
      "100%|██████████| 1000/1000 [00:00<00:00, 2536.30it/s]"
     ]
    },
    {
     "name": "stdout",
     "output_type": "stream",
     "text": [
      "p-value of CCA: 0.0\n"
     ]
    },
    {
     "name": "stderr",
     "output_type": "stream",
     "text": [
      "\n"
     ]
    },
    {
     "data": {
      "text/plain": [
       "0.0"
      ]
     },
     "execution_count": 3,
     "metadata": {},
     "output_type": "execute_result"
    }
   ],
   "source": [
    "# 初始化\n",
    "my_cca = CCA_permutation(\n",
    "    X, \n",
    "    y, \n",
    "    gene_label,\n",
    "    spin_test_method='vasa',\n",
    "    parcellationLR=(lh_parc, rh_parc),\n",
    "    perm=1000,\n",
    "    left_dist_mat_file=left_dist_mat_file,\n",
    "    right_dist_mat_file=right_dist_mat_file,\n",
    "    seed=1234\n",
    ")\n",
    "# 计算P值\n",
    "my_cca.permutative_P_statistic()"
   ]
  },
  {
   "cell_type": "code",
   "execution_count": 4,
   "metadata": {},
   "outputs": [
    {
     "name": "stderr",
     "output_type": "stream",
     "text": [
      "100%|██████████| 1000/1000 [00:00<00:00, 2463.94it/s]\n"
     ]
    },
    {
     "data": {
      "text/html": [
       "<div>\n",
       "<style scoped>\n",
       "    .dataframe tbody tr th:only-of-type {\n",
       "        vertical-align: middle;\n",
       "    }\n",
       "\n",
       "    .dataframe tbody tr th {\n",
       "        vertical-align: top;\n",
       "    }\n",
       "\n",
       "    .dataframe thead th {\n",
       "        text-align: right;\n",
       "    }\n",
       "</style>\n",
       "<table border=\"1\" class=\"dataframe\">\n",
       "  <thead>\n",
       "    <tr style=\"text-align: right;\">\n",
       "      <th></th>\n",
       "      <th>Gene</th>\n",
       "      <th>Z-score</th>\n",
       "    </tr>\n",
       "  </thead>\n",
       "  <tbody>\n",
       "    <tr>\n",
       "      <th>0</th>\n",
       "      <td>PLXNA1</td>\n",
       "      <td>4.576200</td>\n",
       "    </tr>\n",
       "    <tr>\n",
       "      <th>1</th>\n",
       "      <td>PLXNA3</td>\n",
       "      <td>3.475130</td>\n",
       "    </tr>\n",
       "    <tr>\n",
       "      <th>2</th>\n",
       "      <td>PLXNB3</td>\n",
       "      <td>1.961170</td>\n",
       "    </tr>\n",
       "    <tr>\n",
       "      <th>3</th>\n",
       "      <td>PLXNA4</td>\n",
       "      <td>1.491761</td>\n",
       "    </tr>\n",
       "    <tr>\n",
       "      <th>4</th>\n",
       "      <td>PLXNA2</td>\n",
       "      <td>1.247513</td>\n",
       "    </tr>\n",
       "    <tr>\n",
       "      <th>5</th>\n",
       "      <td>PLXNB2</td>\n",
       "      <td>-1.122794</td>\n",
       "    </tr>\n",
       "    <tr>\n",
       "      <th>6</th>\n",
       "      <td>PLXNB1</td>\n",
       "      <td>-3.602489</td>\n",
       "    </tr>\n",
       "    <tr>\n",
       "      <th>7</th>\n",
       "      <td>PLXDC2</td>\n",
       "      <td>-6.668815</td>\n",
       "    </tr>\n",
       "    <tr>\n",
       "      <th>8</th>\n",
       "      <td>PLXNC1</td>\n",
       "      <td>-20.769268</td>\n",
       "    </tr>\n",
       "  </tbody>\n",
       "</table>\n",
       "</div>"
      ],
      "text/plain": [
       "     Gene    Z-score\n",
       "0  PLXNA1   4.576200\n",
       "1  PLXNA3   3.475130\n",
       "2  PLXNB3   1.961170\n",
       "3  PLXNA4   1.491761\n",
       "4  PLXNA2   1.247513\n",
       "5  PLXNB2  -1.122794\n",
       "6  PLXNB1  -3.602489\n",
       "7  PLXDC2  -6.668815\n",
       "8  PLXNC1 -20.769268"
      ]
     },
     "execution_count": 4,
     "metadata": {},
     "output_type": "execute_result"
    }
   ],
   "source": [
    "# 计算bootstrap后的变量权重\n",
    "my_cca.compute_bootstrap()"
   ]
  },
  {
   "cell_type": "code",
   "execution_count": 5,
   "metadata": {},
   "outputs": [
    {
     "data": {
      "text/plain": [
       "array([[-0.47954022],\n",
       "       [ 0.21890033],\n",
       "       [ 0.06428153],\n",
       "       [ 0.174974  ],\n",
       "       [ 0.07031373],\n",
       "       [-0.20216402],\n",
       "       [-0.06328411],\n",
       "       [ 0.09990864],\n",
       "       [-0.79219624]])"
      ]
     },
     "execution_count": 5,
     "metadata": {},
     "output_type": "execute_result"
    }
   ],
   "source": [
    "# 原始权重\n",
    "my_cca.weights"
   ]
  },
  {
   "cell_type": "code",
   "execution_count": 6,
   "metadata": {},
   "outputs": [
    {
     "data": {
      "text/plain": [
       "array(['PLXDC2', 'PLXNA1', 'PLXNA2', 'PLXNA3', 'PLXNA4', 'PLXNB1',\n",
       "       'PLXNB2', 'PLXNB3', 'PLXNC1'], dtype='<U25')"
      ]
     },
     "execution_count": 6,
     "metadata": {},
     "output_type": "execute_result"
    }
   ],
   "source": [
    "gene_label"
   ]
  },
  {
   "cell_type": "code",
   "execution_count": 7,
   "metadata": {},
   "outputs": [
    {
     "data": {
      "text/plain": [
       "Text(0.5, 1.0, 'PLXNC1')"
      ]
     },
     "execution_count": 7,
     "metadata": {},
     "output_type": "execute_result"
    },
    {
     "data": {
      "image/png": "[encoded data removed]",
      "text/plain": [
       "<Figure size 640x480 with 1 Axes>"
      ]
     },
     "metadata": {},
     "output_type": "display_data"
    }
   ],
   "source": [
    "import matplotlib.pyplot as plt\n",
    "\n",
    "plt.scatter(x=X[:, 8], y=y, c='r')\n",
    "plt.title(gene_label[8])"
   ]
  }
 ],
 "metadata": {
  "kernelspec": {
   "display_name": "imagingwork",
   "language": "python",
   "name": "python3"
  },
  "language_info": {
   "codemirror_mode": {
    "name": "ipython",
    "version": 3
   },
   "file_extension": ".py",
   "mimetype": "text/x-python",
   "name": "python",
   "nbconvert_exporter": "python",
   "pygments_lexer": "ipython3",
   "version": "3.8.18"
  }
 },
 "nbformat": 4,
 "nbformat_minor": 2
}
