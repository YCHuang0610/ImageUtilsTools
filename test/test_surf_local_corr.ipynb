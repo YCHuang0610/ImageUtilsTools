{
 "cells": [
  {
   "cell_type": "code",
   "execution_count": 1,
   "metadata": {},
   "outputs": [],
   "source": [
    "import nibabel as nib\n",
    "import numpy as np\n",
    "\n",
    "sphere = \"data/tpl-fsLR_den-32k_hemi-L_sphere.surf.gii\"\n",
    "sphere = nib.load(sphere)\n",
    "coordinates, vertices = sphere.agg_data()\n",
    "\n",
    "x = \"data/Monkey_GC1_nPDF_to_Human.L.32k_fs_LR.shape.gii\"\n",
    "x = nib.load(x).agg_data()\n",
    "y = \"data/Monkey_GC1_PDF_to_Human.L.32k_fs_LR.shape.gii\"\n",
    "y = nib.load(y).agg_data()"
   ]
  },
  {
   "cell_type": "code",
   "execution_count": 2,
   "metadata": {},
   "outputs": [
    {
     "data": {
      "text/plain": [
       "array([[ 85.06508 ,   0.      ,  52.57311 ],\n",
       "       [  0.      , -52.57311 ,  85.06508 ],\n",
       "       [-85.06508 ,   0.      ,  52.57311 ],\n",
       "       ...,\n",
       "       [ -1.928835, -48.54365 , -87.40591 ],\n",
       "       [ -3.834274, -49.721283, -86.67809 ],\n",
       "       [ -1.921215, -50.295624, -86.409836]], dtype=float32)"
      ]
     },
     "execution_count": 2,
     "metadata": {},
     "output_type": "execute_result"
    }
   ],
   "source": [
    "coordinates"
   ]
  },
  {
   "cell_type": "code",
   "execution_count": 3,
   "metadata": {},
   "outputs": [],
   "source": [
    "v = coordinates / np.sqrt((coordinates ** 2).sum(axis=1))[:, np.newaxis]"
   ]
  },
  {
   "cell_type": "code",
   "execution_count": 4,
   "metadata": {},
   "outputs": [
    {
     "data": {
      "text/plain": [
       "array([ True,  True,  True, ...,  True,  True,  True])"
      ]
     },
     "execution_count": 4,
     "metadata": {},
     "output_type": "execute_result"
    }
   ],
   "source": [
    "r = np.zeros(v.shape[0])\n",
    "\n",
    "vals = np.logical_and(x != 0, y != 0)\n",
    "vals"
   ]
  },
  {
   "cell_type": "code",
   "execution_count": 12,
   "metadata": {},
   "outputs": [
    {
     "data": {
      "text/plain": [
       "array([[ 0.85065085,  0.        ,  0.52573115],\n",
       "       [ 0.        , -0.52573115,  0.85065085],\n",
       "       [-0.85065085,  0.        ,  0.52573115],\n",
       "       ...,\n",
       "       [-0.01928835, -0.48543656, -0.87405914],\n",
       "       [-0.03834274, -0.49721283, -0.86678094],\n",
       "       [-0.01921215, -0.5029562 , -0.86409837]], dtype=float32)"
      ]
     },
     "execution_count": 12,
     "metadata": {},
     "output_type": "execute_result"
    }
   ],
   "source": [
    "v"
   ]
  },
  {
   "cell_type": "code",
   "execution_count": 5,
   "metadata": {},
   "outputs": [
    {
     "data": {
      "text/plain": [
       "array([ 1.0000001 ,  0.44721365, -0.44721365, ..., -0.47592777,\n",
       "       -0.48831   , -0.47062624], dtype=float32)"
      ]
     },
     "execution_count": 5,
     "metadata": {},
     "output_type": "execute_result"
    }
   ],
   "source": [
    "cos_angle = v @ v[0]\n",
    "cos_angle"
   ]
  },
  {
   "cell_type": "code",
   "execution_count": 6,
   "metadata": {},
   "outputs": [
    {
     "data": {
      "text/plain": [
       "array([0.       , 1.1071486, 2.034444 , ..., 2.066815 , 2.0809484,\n",
       "       2.0607967], dtype=float32)"
      ]
     },
     "execution_count": 6,
     "metadata": {},
     "output_type": "execute_result"
    }
   ],
   "source": [
    "angle = np.arccos(np.clip(cos_angle, -1, 1))\n",
    "angle"
   ]
  },
  {
   "cell_type": "code",
   "execution_count": 7,
   "metadata": {},
   "outputs": [],
   "source": [
    "j = (np.degrees(angle) < 30) & vals\n",
    "\n",
    "r[j] = 1\n",
    "# 将数据格式转换为int32\n",
    "r = r.astype(np.int32)\n",
    "new_gifti = nib.gifti.GiftiDataArray(r)\n",
    "new_gifti = nib.gifti.GiftiImage(darrays=[new_gifti])\n",
    "nib.save(new_gifti, \"test.func.gii\")"
   ]
  },
  {
   "cell_type": "code",
   "execution_count": 8,
   "metadata": {},
   "outputs": [],
   "source": [
    "def surflocalcorr(x, y, sph, a=30, method=\"pearsonr\"):\n",
    "    if isinstance(x, str):\n",
    "        x = nib.load(x)\n",
    "    x = x.agg_data()\n",
    "    if isinstance(y, str):\n",
    "        y = nib.load(y)\n",
    "    y = y.agg_data()\n",
    "    if isinstance(sph, str):\n",
    "        sph = nib.load(sph)\n",
    "    coordinates, _ = sph.agg_data()\n",
    "    v = coordinates / np.sqrt((coordinates ** 2).sum(axis=1))[:, np.newaxis]\n",
    "    r = np.zeros(v.shape[0])\n",
    "\n",
    "    # no values\n",
    "    vals = np.logical_and(x != 0, y != 0)\n",
    "\n",
    "    for i in range(v.shape[0]):\n",
    "        cos_angle = v @ v[i]\n",
    "        angle = np.arccos(np.clip(cos_angle, -1, 1))\n",
    "        j = (np.degrees(angle) < a) & vals\n",
    "        # Ensure enough values for stable correlation\n",
    "        assert np.sum(j) > 30, \"Not enough values for stable correlation, try increasing the angle\"\n",
    "        if method == \"pearsonr\":\n",
    "            r[i] = np.corrcoef(x[j], y[j])[0, 1]\n",
    "        elif method == \"spearmanr\":\n",
    "            pass\n",
    "\n",
    "    r[~vals] = 0\n",
    "    return r"
   ]
  },
  {
   "cell_type": "code",
   "execution_count": 9,
   "metadata": {},
   "outputs": [],
   "source": [
    "sphere = \"data/tpl-fsLR_den-32k_hemi-L_sphere.surf.gii\"\n",
    "x = \"data/Monkey_GC1_nPDF_to_Human.L.32k_fs_LR.shape.gii\"\n",
    "y = \"data/Monkey_GC1_PDF_to_Human.L.32k_fs_LR.shape.gii\"\n",
    "\n",
    "corr = surflocalcorr(x, y, sphere, a=30, method=\"pearsonr\")"
   ]
  },
  {
   "cell_type": "code",
   "execution_count": 11,
   "metadata": {},
   "outputs": [],
   "source": [
    "from neuromaps.datasets import fetch_fslr\n",
    "sphere_L, sphere_R = fetch_fslr(density='32k')['sphere']\n",
    "corr = surflocalcorr(x, y, nib.load(sphere_L), a=30, method=\"pearsonr\")"
   ]
  },
  {
   "cell_type": "code",
   "execution_count": 1,
   "metadata": {},
   "outputs": [],
   "source": [
    "import os\n",
    "import sys\n",
    "project_root = \"/Users/burgerhuang/Documents/ImageUtilisTools\"\n",
    "if project_root not in sys.path:\n",
    "    sys.path.append(project_root)\n",
    "from ImageUtilisTools.Stats.surf_local_correlation import surflocalcorr\n",
    "\n",
    "sphere = \"data/tpl-fsLR_den-32k_hemi-L_sphere.surf.gii\"\n",
    "x = \"data/Monkey_GC1_nPDF_to_Human.L.32k_fs_LR.shape.gii\"\n",
    "y = \"data/Monkey_GC1_PDF_to_Human.L.32k_fs_LR.shape.gii\"\n",
    "\n",
    "corr = surflocalcorr(x, y, sphere, a=30, method=\"spearmanr\", return_gifti=True)\n",
    "corr.to_filename(\"test_corr.func.gii\")"
   ]
  }
 ],
 "metadata": {
  "kernelspec": {
   "display_name": "imagingwork",
   "language": "python",
   "name": "python3"
  },
  "language_info": {
   "codemirror_mode": {
    "name": "ipython",
    "version": 3
   },
   "file_extension": ".py",
   "mimetype": "text/x-python",
   "name": "python",
   "nbconvert_exporter": "python",
   "pygments_lexer": "ipython3",
   "version": "3.8.18"
  }
 },
 "nbformat": 4,
 "nbformat_minor": 2
}
