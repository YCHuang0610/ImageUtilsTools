{
 "cells": [
  {
   "cell_type": "code",
   "execution_count": 4,
   "metadata": {},
   "outputs": [],
   "source": [
    "import nibabel as nib\n",
    "import numpy as np\n",
    "\n",
    "sphere = \"data/MacaqueYerkes19_v1.2.L.sphere.32k_fs_LR.surf.gii\"\n",
    "sphere = nib.load(sphere)\n",
    "coordinates, vertices = sphere.agg_data()\n",
    "\n",
    "x = \"data/Human_GC1_to_Monkey.L.32k_fs_LR.shape.gii\"\n",
    "x = nib.load(x).agg_data()\n",
    "y = \"data/Monkey_GC2_nPDF.L.32k_fs_LR.shape.gii\"\n",
    "y = nib.load(y).agg_data()"
   ]
  },
  {
   "cell_type": "code",
   "execution_count": 5,
   "metadata": {},
   "outputs": [
    {
     "data": {
      "text/plain": [
       "array([[ 85.06509  ,   0.       ,  52.573116 ],\n",
       "       [  0.       , -52.573116 ,  85.06509  ],\n",
       "       [-85.06509  ,   0.       ,  52.573116 ],\n",
       "       ...,\n",
       "       [ -1.9288353, -48.54366  , -87.405914 ],\n",
       "       [ -3.834274 , -49.721283 , -86.67809  ],\n",
       "       [ -1.921215 , -50.295624 , -86.409836 ]], dtype=float32)"
      ]
     },
     "execution_count": 5,
     "metadata": {},
     "output_type": "execute_result"
    }
   ],
   "source": [
    "coordinates"
   ]
  },
  {
   "cell_type": "code",
   "execution_count": 6,
   "metadata": {},
   "outputs": [
    {
     "data": {
      "text/plain": [
       "array([[100.00001],\n",
       "       [100.00001],\n",
       "       [100.00001],\n",
       "       ...,\n",
       "       [100.00001],\n",
       "       [100.     ],\n",
       "       [100.     ]], dtype=float32)"
      ]
     },
     "execution_count": 6,
     "metadata": {},
     "output_type": "execute_result"
    }
   ],
   "source": [
    "np.sqrt((coordinates ** 2).sum(axis=1))[:, np.newaxis]"
   ]
  },
  {
   "cell_type": "code",
   "execution_count": 7,
   "metadata": {},
   "outputs": [],
   "source": [
    "v = coordinates / np.sqrt((coordinates ** 2).sum(axis=1))[:, np.newaxis]"
   ]
  },
  {
   "cell_type": "code",
   "execution_count": 8,
   "metadata": {},
   "outputs": [
    {
     "data": {
      "text/plain": [
       "array([ True,  True,  True, ...,  True,  True,  True])"
      ]
     },
     "execution_count": 8,
     "metadata": {},
     "output_type": "execute_result"
    }
   ],
   "source": [
    "r = np.zeros(v.shape[0])\n",
    "\n",
    "vals = np.logical_and(x != 0, y != 0)\n",
    "vals"
   ]
  },
  {
   "cell_type": "code",
   "execution_count": 9,
   "metadata": {},
   "outputs": [
    {
     "data": {
      "text/plain": [
       "array([[ 0.8506508 ,  0.        ,  0.52573115],\n",
       "       [ 0.        , -0.52573115,  0.8506508 ],\n",
       "       [-0.8506508 ,  0.        ,  0.52573115],\n",
       "       ...,\n",
       "       [-0.01928835, -0.48543656, -0.8740591 ],\n",
       "       [-0.03834274, -0.49721283, -0.86678094],\n",
       "       [-0.01921215, -0.5029562 , -0.86409837]], dtype=float32)"
      ]
     },
     "execution_count": 9,
     "metadata": {},
     "output_type": "execute_result"
    }
   ],
   "source": [
    "v"
   ]
  },
  {
   "cell_type": "code",
   "execution_count": 5,
   "metadata": {},
   "outputs": [
    {
     "data": {
      "text/plain": [
       "array([ 1.0000001 ,  0.44721365, -0.44721365, ..., -0.47592777,\n",
       "       -0.48831   , -0.47062624], dtype=float32)"
      ]
     },
     "execution_count": 5,
     "metadata": {},
     "output_type": "execute_result"
    }
   ],
   "source": [
    "cos_angle = v @ v[0]\n",
    "cos_angle"
   ]
  },
  {
   "cell_type": "code",
   "execution_count": 6,
   "metadata": {},
   "outputs": [
    {
     "data": {
      "text/plain": [
       "array([0.       , 1.1071486, 2.034444 , ..., 2.066815 , 2.0809484,\n",
       "       2.0607967], dtype=float32)"
      ]
     },
     "execution_count": 6,
     "metadata": {},
     "output_type": "execute_result"
    }
   ],
   "source": [
    "angle = np.arccos(np.clip(cos_angle, -1, 1))\n",
    "angle"
   ]
  },
  {
   "cell_type": "code",
   "execution_count": 7,
   "metadata": {},
   "outputs": [],
   "source": [
    "j = (np.degrees(angle) < 30) & vals\n",
    "\n",
    "r[j] = 1\n",
    "# 将数据格式转换为int32\n",
    "r = r.astype(np.int32)\n",
    "new_gifti = nib.gifti.GiftiDataArray(r)\n",
    "new_gifti = nib.gifti.GiftiImage(darrays=[new_gifti])\n",
    "nib.save(new_gifti, \"test.func.gii\")"
   ]
  },
  {
   "cell_type": "code",
   "execution_count": 17,
   "metadata": {},
   "outputs": [],
   "source": [
    "def surflocalcorr(x, y, sph, a=30, method=\"pearsonr\"):\n",
    "    if isinstance(x, str):\n",
    "        x = nib.load(x)\n",
    "    x = x.agg_data()\n",
    "    if isinstance(y, str):\n",
    "        y = nib.load(y)\n",
    "    y = y.agg_data()\n",
    "    if isinstance(sph, str):\n",
    "        sph = nib.load(sph)\n",
    "    coordinates, _ = sph.agg_data()\n",
    "    v = coordinates / np.sqrt((coordinates ** 2).sum(axis=1))[:, np.newaxis]\n",
    "    r = np.zeros(v.shape[0])\n",
    "\n",
    "    # no values\n",
    "    #vals = np.logical_and(x != 0, y != 0)\n",
    "\n",
    "    for i in range(v.shape[0]):\n",
    "        cos_angle = v @ v[i]\n",
    "        angle = np.arccos(np.clip(cos_angle, -1, 1))\n",
    "        j = (np.degrees(angle) < a)\n",
    "        # Ensure enough values for stable correlation\n",
    "        assert np.sum(j) > 30, f\"Not enough values for stable correlation, try increasing the angle {i}\"\n",
    "        if method == \"pearsonr\":\n",
    "            r[i] = np.corrcoef(x[j], y[j])[0, 1]\n",
    "        elif method == \"spearmanr\":\n",
    "            pass\n",
    "\n",
    "    #r[~vals] = 0\n",
    "    return r"
   ]
  },
  {
   "cell_type": "code",
   "execution_count": 22,
   "metadata": {},
   "outputs": [],
   "source": [
    "\n",
    "sphere = \"data/MacaqueYerkes19_v1.2.L.sphere.32k_fs_LR.surf.gii\"\n",
    "x = \"data/Human_GC1_to_Monkey.L.32k_fs_LR.shape.gii\"\n",
    "y = \"data/Monkey_GC2_nPDF.L.32k_fs_LR.shape.gii\"\n",
    "\n",
    "corr = surflocalcorr(x, y, nib.load(sphere), a=30, method=\"pearsonr\")"
   ]
  },
  {
   "cell_type": "code",
   "execution_count": 20,
   "metadata": {},
   "outputs": [
    {
     "data": {
      "text/plain": [
       "array([        nan,  0.53258119,  0.27790825, ...,  0.02052593,\n",
       "       -0.01120528,  0.02543244])"
      ]
     },
     "execution_count": 20,
     "metadata": {},
     "output_type": "execute_result"
    }
   ],
   "source": [
    "corr"
   ]
  },
  {
   "cell_type": "code",
   "execution_count": 35,
   "metadata": {},
   "outputs": [],
   "source": [
    "import nibabel as nib\n",
    "import numpy as np\n",
    "from pathlib import PosixPath\n",
    "\n",
    "def local_corr(x, y, coor, a, method=\"spearmanr\"):\n",
    "    \"\"\"\n",
    "    Calculate the local correlation between two arrays.\n",
    "\n",
    "    Parameters:\n",
    "    - x (ndarray): First input array.\n",
    "    - y (ndarray): Second input array.\n",
    "    - coor (ndarray): Array of coordinates.\n",
    "    - a (float): Angle threshold in degrees.\n",
    "    - method (str): Correlation method to use. Default is \"spearmanr\".\n",
    "\n",
    "    Returns:\n",
    "    - r (ndarray): Array of local correlation values.\n",
    "    \"\"\"\n",
    "    v = coor / np.sqrt((coor**2).sum(axis=1))[:, np.newaxis]\n",
    "    r = np.zeros(v.shape[0])\n",
    "    # no values\n",
    "    vals = np.logical_and(\n",
    "        ~np.isnan(x), ~np.isnan(y)\n",
    "    )\n",
    "\n",
    "    for i in range(v.shape[0]):\n",
    "        cos_angle = v @ v[i]\n",
    "        angle = np.arccos(np.clip(cos_angle, -1, 1))\n",
    "        j = (np.degrees(angle) < a) & vals\n",
    "        # Ensure enough values for stable correlation\n",
    "        assert np.sum(j) > 30, \"Not enough data points for correlation calculation\"\n",
    "        if method == \"pearsonr\":\n",
    "            r[i] = np.corrcoef(x[j], y[j])[0, 1]\n",
    "\n",
    "    r[~vals] = np.nan\n",
    "    return r\n",
    "\n",
    "\n",
    "def surflocalcorr(x, y, sph, a=30, method=\"spearmanr\", return_gifti=False):\n",
    "    \"\"\"\n",
    "    Calculate the surface local correlation between two input datasets.\n",
    "\n",
    "    Parameters:\n",
    "    x (str or nibabel.gifti.GiftiImage): Input dataset x. If a string is provided, it is assumed to be the path to the dataset and will be loaded using nibabel.\n",
    "    y (str or nibabel.gifti.GiftiImage): Input dataset y. If a string is provided, it is assumed to be the path to the dataset and will be loaded using nibabel.\n",
    "    sph (str or nibabel.gifti.GiftiImage): Spherical coordinates. If a string is provided, it is assumed to be the path to the dataset and will be loaded using nibabel.\n",
    "    a (int, optional): Parameter a. Defaults to 30.\n",
    "    method (str, optional): Correlation method. Can be pearsonr or spearmanr. Defaults to 'spearmanr'.\n",
    "    return_gifti (bool, optional): Whether to return the result as a nibabel.gifti.GiftiImage object. Defaults to False.\n",
    "\n",
    "    Returns:\n",
    "    numpy.ndarray or nibabel.gifti.GiftiImage: Array of local correlation values. If return_gifti is True, the result is returned as a nibabel.gifti.GiftiImage object.\n",
    "\n",
    "    \"\"\"\n",
    "    if isinstance(x, PosixPath):\n",
    "        x = nib.load(x)\n",
    "    if isinstance(x, str):\n",
    "        x = nib.load(x)\n",
    "    x = x.agg_data()\n",
    "    if isinstance(y, PosixPath):\n",
    "        y = nib.load(y)\n",
    "    if isinstance(y, str):\n",
    "        y = nib.load(y)\n",
    "    y = y.agg_data()\n",
    "    if isinstance(sph, PosixPath):\n",
    "        sph = nib.load(sph)\n",
    "    if isinstance(sph, str):\n",
    "        sph = nib.load(sph)\n",
    "    coordinates, _ = sph.agg_data()\n",
    "    assert method in [\n",
    "        \"pearsonr\",\n",
    "        \"spearmanr\",\n",
    "    ], \"Invalid method. Must be 'pearsonr' or 'spearmanr'.\"\n",
    "    corr = local_corr(x, y, coordinates, a, method)\n",
    "    # 保存到Gifti对象\n",
    "    if return_gifti:\n",
    "        corr = corr.astype(np.float32)\n",
    "        corr_gifti = nib.gifti.GiftiDataArray(corr)\n",
    "        corr_gifti = nib.gifti.GiftiImage(darrays=[corr_gifti])\n",
    "        return corr_gifti\n",
    "\n",
    "    return corr\n",
    "\n",
    "sphere = \"data/MacaqueYerkes19_v1.2.L.sphere.32k_fs_LR.surf.gii\"\n",
    "x = \"data/Human_GC1_to_Monkey.L.32k_fs_LR.shape.gii\"\n",
    "y = \"data/Monkey_GC2_nPDF.L.32k_fs_LR.shape.gii\"\n",
    "corr = surflocalcorr(x, y, sphere, a=40, method=\"pearsonr\", return_gifti=True)\n",
    "corr.to_filename(\"test_2.func.gii\")"
   ]
  }
 ],
 "metadata": {
  "kernelspec": {
   "display_name": "imagingwork",
   "language": "python",
   "name": "python3"
  },
  "language_info": {
   "codemirror_mode": {
    "name": "ipython",
    "version": 3
   },
   "file_extension": ".py",
   "mimetype": "text/x-python",
   "name": "python",
   "nbconvert_exporter": "python",
   "pygments_lexer": "ipython3",
   "version": "3.8.18"
  }
 },
 "nbformat": 4,
 "nbformat_minor": 2
}
